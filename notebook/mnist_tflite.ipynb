{
  "nbformat": 4,
  "nbformat_minor": 0,
  "metadata": {
    "colab": {
      "name": "MNIST for TF Lite.ipynb",
      "version": "0.3.2",
      "provenance": [],
      "collapsed_sections": []
    },
    "kernelspec": {
      "name": "python3",
      "display_name": "Python 3"
    },
    "accelerator": "GPU"
  },
  "cells": [
    {
      "cell_type": "markdown",
      "metadata": {
        "id": "EXyJkL4WnqyS",
        "colab_type": "text"
      },
      "source": [
        "## Import dependencies"
      ]
    },
    {
      "cell_type": "code",
      "metadata": {
        "id": "kS_mq4yAlXHZ",
        "colab_type": "code",
        "outputId": "f9e55f1b-3c9a-4f0d-db29-bb304253fee1",
        "colab": {
          "base_uri": "https://localhost:8080/",
          "height": 34
        }
      },
      "source": [
        "# Install TensorFlow 2\n",
        "!pip install -q tensorflow-gpu==2.0.0-beta1\n",
        "\n",
        "from __future__ import absolute_import, division, print_function, unicode_literals\n",
        "\n",
        "# TensorFlow and tf.keras\n",
        "import tensorflow as tf\n",
        "from tensorflow import keras\n",
        "\n",
        "# Helper libraries\n",
        "import numpy as np\n",
        "import matplotlib.pyplot as plt\n",
        "\n",
        "print(tf.__version__)"
      ],
      "execution_count": 0,
      "outputs": [
        {
          "output_type": "stream",
          "text": [
            "2.0.0-beta1\n"
          ],
          "name": "stdout"
        }
      ]
    },
    {
      "cell_type": "markdown",
      "metadata": {
        "id": "r0WlLrJcnwWp",
        "colab_type": "text"
      },
      "source": [
        "## Download and explore the MNIST dataset\n",
        "The MNIST database contains 60,000 training images and 10,000 testing images of handwritten digits. We will use the dataset to demonstrate how to train a image classification model and convert it to TensorFlow Lite format.\n",
        "\n",
        "Each image in the MNIST dataset is a 28x28 grayscale image containing a digit.\n",
        "![MNIST sample](https://github.com/khanhlvg/DigitClassifier/raw/master/images/mnist.png)"
      ]
    },
    {
      "cell_type": "code",
      "metadata": {
        "id": "B5REuMrblewK",
        "colab_type": "code",
        "colab": {}
      },
      "source": [
        "# Download MNIST dataset.\n",
        "mnist = keras.datasets.mnist\n",
        "(train_images, train_labels), (test_images, test_labels) = mnist.load_data()"
      ],
      "execution_count": 0,
      "outputs": []
    },
    {
      "cell_type": "code",
      "metadata": {
        "id": "REY5lDDylpFh",
        "colab_type": "code",
        "colab": {}
      },
      "source": [
        "# Normalize the input image so that each pixel value is between 0 to 1.\n",
        "train_images = train_images / 255.0\n",
        "test_images = test_images / 255.0"
      ],
      "execution_count": 0,
      "outputs": []
    },
    {
      "cell_type": "code",
      "metadata": {
        "id": "SAOE84IplyWR",
        "colab_type": "code",
        "outputId": "eab8add5-10d9-4bad-fb88-424ce88ad846",
        "colab": {
          "base_uri": "https://localhost:8080/",
          "height": 592
        }
      },
      "source": [
        "# Show the first 25 images in the training dataset.\n",
        "plt.figure(figsize=(10,10))\n",
        "for i in range(25):\n",
        "    plt.subplot(5,5,i+1)\n",
        "    plt.xticks([])\n",
        "    plt.yticks([])\n",
        "    plt.grid(False)\n",
        "    plt.imshow(train_images[i], cmap=plt.cm.binary)\n",
        "    plt.xlabel(train_labels[i])\n",
        "plt.show()"
      ],
      "execution_count": 65,
      "outputs": [
        {
          "output_type": "display_data",
          "data": {
            "image/png": "[encoded data removed]",
            "text/plain": [
              "<Figure size 720x720 with 25 Axes>"
            ]
          },
          "metadata": {
            "tags": []
          }
        }
      ]
    },
    {
      "cell_type": "markdown",
      "metadata": {
        "id": "9v-Wp3TxpLX6",
        "colab_type": "text"
      },
      "source": [
        "## Train a TensorFlow model to classify digit images\n",
        "We use Keras API to build a TensorFlow model that can classify the digit images. Please see this [tutorial](https://www.tensorflow.org/tutorials/keras/basic_classification) if you are interested to learn more about how to build machine learning model with Keras and TensorFlow."
      ]
    },
    {
      "cell_type": "code",
      "metadata": {
        "id": "IWgBGmaplzcp",
        "colab_type": "code",
        "colab": {}
      },
      "source": [
        "# Define the model architecture\n",
        "model = keras.Sequential([\n",
        "    keras.layers.Flatten(input_shape=(28, 28)),\n",
        "    keras.layers.Dense(128, activation=tf.nn.relu),\n",
        "\n",
        "# Optional: You can replace the fully-connected layer above with the convolution layers below\n",
        "    # keras.layers.Reshape(target_shape=(28, 28, 1)),\n",
        "    # keras.layers.Conv2D(filters=32, kernel_size=(3, 3), activation=tf.nn.relu),\n",
        "    # keras.layers.Conv2D(filters=64, kernel_size=(3, 3), activation=tf.nn.relu),\n",
        "    # keras.layers.MaxPooling2D(pool_size=(2, 2)),\n",
        "    # keras.layers.Dropout(0.25),\n",
        "    # keras.layers.Flatten(input_shape=(28, 28)),\n",
        "    # keras.layers.Dense(128, activation=tf.nn.relu),\n",
        "    # keras.layers.Dropout(0.5),\n",
        "\n",
        "    keras.layers.Dense(10, activation=tf.nn.softmax)\n",
        "])\n",
        "\n",
        "model.compile(optimizer='adam',\n",
        "              loss='sparse_categorical_crossentropy',\n",
        "              metrics=['accuracy'])"
      ],
      "execution_count": 0,
      "outputs": []
    },
    {
      "cell_type": "code",
      "metadata": {
        "id": "V6SOZuLRmEzS",
        "colab_type": "code",
        "outputId": "1beff1a6-6e36-4503-fdf3-9014c729c24f",
        "colab": {
          "base_uri": "https://localhost:8080/",
          "height": 221
        }
      },
      "source": [
        "# Train the digit classification model\n",
        "model.fit(train_images, train_labels, epochs=5)"
      ],
      "execution_count": 0,
      "outputs": [
        {
          "output_type": "stream",
          "text": [
            "Train on 60000 samples\n",
            "Epoch 1/5\n",
            "60000/60000 [==============================] - 4s 71us/sample - loss: 0.2533 - accuracy: 0.9258\n",
            "Epoch 2/5\n",
            "60000/60000 [==============================] - 4s 68us/sample - loss: 0.1129 - accuracy: 0.9677\n",
            "Epoch 3/5\n",
            "60000/60000 [==============================] - 4s 68us/sample - loss: 0.0793 - accuracy: 0.9762\n",
            "Epoch 4/5\n",
            "60000/60000 [==============================] - 4s 67us/sample - loss: 0.0601 - accuracy: 0.9817\n",
            "Epoch 5/5\n",
            "60000/60000 [==============================] - 4s 67us/sample - loss: 0.0454 - accuracy: 0.9857\n"
          ],
          "name": "stdout"
        },
        {
          "output_type": "execute_result",
          "data": {
            "text/plain": [
              "<tensorflow.python.keras.callbacks.History at 0x7fed32c6f9e8>"
            ]
          },
          "metadata": {
            "tags": []
          },
          "execution_count": 25
        }
      ]
    },
    {
      "cell_type": "markdown",
      "metadata": {
        "id": "za35DFJ5uFkX",
        "colab_type": "text"
      },
      "source": [
        "## Evaluate our model \n",
        "We run our digit classification model against our test dataset that the model hasn't seen in during its training process so confirm that the model didn't just remember the digits it saw but also generalize well to new images."
      ]
    },
    {
      "cell_type": "code",
      "metadata": {
        "id": "sJI8nqFWmMwC",
        "colab_type": "code",
        "outputId": "3bec43b7-6858-4b3b-8b7a-918fd370e9ac",
        "colab": {
          "base_uri": "https://localhost:8080/",
          "height": 51
        }
      },
      "source": [
        "# Evaluate the model using test dataset.\n",
        "test_loss, test_acc = model.evaluate(test_images, test_labels)\n",
        "\n",
        "print('Test accuracy:', test_acc)"
      ],
      "execution_count": 0,
      "outputs": [
        {
          "output_type": "stream",
          "text": [
            "10000/10000 [==============================] - 0s 50us/sample - loss: 0.0766 - accuracy: 0.9757\n",
            "Test accuracy: 0.9757\n"
          ],
          "name": "stdout"
        }
      ]
    },
    {
      "cell_type": "code",
      "metadata": {
        "id": "PdlXEyUImeXC",
        "colab_type": "code",
        "outputId": "da889095-2954-4964-99cc-3cde545c88d5",
        "colab": {
          "base_uri": "https://localhost:8080/",
          "height": 592
        }
      },
      "source": [
        "# Predict the labels of digit images in our test dataset.\n",
        "predictions = model.predict(test_images)\n",
        "\n",
        "# Then plot the first 25 test images and their predicted labels.\n",
        "plt.figure(figsize=(10,10))\n",
        "for i in range(25):\n",
        "    plt.subplot(5,5,i+1)\n",
        "    plt.xticks([])\n",
        "    plt.yticks([])\n",
        "    plt.grid(False)\n",
        "    plt.imshow(test_images[i], cmap=plt.cm.binary)\n",
        "    plt.xlabel('Predicted: %d' % np.argmax(predictions[i]))\n",
        "plt.show()"
      ],
      "execution_count": 0,
      "outputs": [
        {
          "output_type": "display_data",
          "data": {
            "image/png": "[encoded data removed]",
            "text/plain": [
              "<Figure size 720x720 with 25 Axes>"
            ]
          },
          "metadata": {
            "tags": []
          }
        }
      ]
    },
    {
      "cell_type": "markdown",
      "metadata": {
        "id": "AWROBI4iv9fY",
        "colab_type": "text"
      },
      "source": [
        "## Convert the model to TensorFlow Lite"
      ]
    },
    {
      "cell_type": "code",
      "metadata": {
        "id": "2fXStjR4mzkR",
        "colab_type": "code",
        "colab": {}
      },
      "source": [
        "# Convert Keras model to TF Lite format. If you Estimator \n",
        "converter = tf.lite.TFLiteConverter.from_keras_model(model)\n",
        "tflite_model = converter.convert()\n",
        "\n",
        "# Save the TF Lite model as file\n",
        "f = open('model.tflite', \"wb\")\n",
        "f.write(tflite_model)\n",
        "f.close()"
      ],
      "execution_count": 0,
      "outputs": []
    },
    {
      "cell_type": "code",
      "metadata": {
        "id": "Q_Z5yLxrwbpI",
        "colab_type": "code",
        "colab": {}
      },
      "source": [
        "# Download the digit classification model\n",
        "from google.colab import files\n",
        "files.download('model.tflite')"
      ],
      "execution_count": 0,
      "outputs": []
    },
    {
      "cell_type": "markdown",
      "metadata": {
        "id": "3TvDxaYU2ui7",
        "colab_type": "text"
      },
      "source": [
        "## Verify that the TensorFlow Lite model"
      ]
    },
    {
      "cell_type": "code",
      "metadata": {
        "id": "fFtIESwrx7cR",
        "colab_type": "code",
        "colab": {
          "base_uri": "https://localhost:8080/",
          "height": 45
        },
        "outputId": "e61a2ed0-355a-4a57-8aaa-553e600b0ea6"
      },
      "source": [
        "# Download a test image\n",
        "!wget -q https://raw.githubusercontent.com/khanhlvg/DigitClassifier/master/images/zero.png\n",
        "image = keras.preprocessing.image.load_img(\n",
        "    'zero.png',\n",
        "    color_mode = 'grayscale',\n",
        "    target_size=(28, 28),\n",
        "    interpolation='bilinear'\n",
        ")\n",
        "image"
      ],
      "execution_count": 72,
      "outputs": [
        {
          "output_type": "execute_result",
          "data": {
            "image/png": "[encoded data removed]",
            "text/plain": [
              "<PIL.Image.Image image mode=L size=28x28 at 0x7FED32D3F358>"
            ]
          },
          "metadata": {
            "tags": []
          },
          "execution_count": 72
        }
      ]
    },
    {
      "cell_type": "code",
      "metadata": {
        "id": "YOPrea0H4rUr",
        "colab_type": "code",
        "colab": {}
      },
      "source": [
        "# Pre-process the image: convert from RGB to grayscale (0: white, 1: black) to match with MNIST dataset format\n",
        "input_image = 1.0 - np.expand_dims(np.array(image, dtype=np.float32) / 255.0, 0)"
      ],
      "execution_count": 0,
      "outputs": []
    },
    {
      "cell_type": "code",
      "metadata": {
        "id": "xPtbtEJ2uacB",
        "colab_type": "code",
        "colab": {
          "base_uri": "https://localhost:8080/",
          "height": 51
        },
        "outputId": "4903e697-e342-400a-8132-2bf4105b4907"
      },
      "source": [
        "# Run inference with TensorFlow Lite\n",
        "interpreter = tf.lite.Interpreter(model_content=tflite_model)\n",
        "interpreter.allocate_tensors()\n",
        "interpreter.set_tensor(interpreter.get_input_details()[0][\"index\"], input_image)\n",
        "interpreter.invoke()\n",
        "output = interpreter.tensor(interpreter.get_output_details()[0][\"index\"])()[0]\n",
        "\n",
        "# Print the model's classification result\n",
        "digit = np.argmax(output)\n",
        "print('Predicted Digit: %d\\nConfidence: %f' % (digit, output[digit]))"
      ],
      "execution_count": 71,
      "outputs": [
        {
          "output_type": "stream",
          "text": [
            "Predicted: 0\n",
            "Confidence: 0.999964\n"
          ],
          "name": "stdout"
        }
      ]
    },
    {
      "cell_type": "code",
      "metadata": {
        "id": "gDmwlc1ostrv",
        "colab_type": "code",
        "colab": {}
      },
      "source": [
        ""
      ],
      "execution_count": 0,
      "outputs": []
    }
  ]
}